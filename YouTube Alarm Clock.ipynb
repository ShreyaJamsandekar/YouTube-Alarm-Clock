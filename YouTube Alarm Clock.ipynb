{
 "cells": [
  {
   "cell_type": "code",
   "execution_count": 42,
   "metadata": {},
   "outputs": [],
   "source": [
    "from tkinter import *\n",
    "import datetime\n",
    "import time\n",
    "import winsound\n",
    "from threading import *"
   ]
  },
  {
   "cell_type": "code",
   "execution_count": 43,
   "metadata": {},
   "outputs": [],
   "source": [
    "import time\n",
    "import random\n",
    "import webbrowser"
   ]
  },
  {
   "cell_type": "code",
   "execution_count": 44,
   "metadata": {},
   "outputs": [],
   "source": [
    "## Alarm Sounds for ringing later.\n",
    "def sounds():\n",
    "    with open('YouTubeLinks.txt','r') as f:\n",
    "        alarms = f.readlines()\n",
    "        alarms = [i.strip() for i in alarms]\n",
    "        z = random.randrange(0,len(alarms))\n",
    "        webbrowser.open(alarms[z])"
   ]
  },
  {
   "cell_type": "code",
   "execution_count": 45,
   "metadata": {},
   "outputs": [],
   "source": [
    "def SaveYoutubeLink():\n",
    "    OKButtonClicked = True\n",
    "    with open('YouTubeLinks.txt','a+') as file_object:\n",
    "        file_object.write(str(YoutubeLinkEntry.get()))\n",
    "        file_object.write(\"\\n\")\n",
    "        file_object.close()\n",
    "    YoutubeLinkEntry.delete(0, 'end')   "
   ]
  },
  {
   "cell_type": "code",
   "execution_count": 47,
   "metadata": {},
   "outputs": [
    {
     "name": "stdout",
     "output_type": "stream",
     "text": [
      "Time to Wake up\n"
     ]
    }
   ],
   "source": [
    "# Create Object\n",
    "root = Tk()\n",
    "\n",
    "# Set geometry\n",
    "root.geometry(\"500x500\")\n",
    "\n",
    "#Use Threading\n",
    "def Threading():\n",
    "\tt1=Thread(target=alarm)\n",
    "\tt1.setDaemon(True)\n",
    "\tt1.start()\n",
    "\n",
    "def SaveYoutubeLink():\n",
    "    OKButtonClicked = True\n",
    "    with open('YouTubeLinks.txt','a+') as file_object:\n",
    "        file_object.write(str(YoutubeLinkEntry.get()))\n",
    "        file_object.write(\"\\n\")\n",
    "        file_object.close()\n",
    "    YoutubeLinkEntry.delete(0, 'end')  \n",
    "\n",
    "## Alarm Sounds for ringing later.\n",
    "def sounds():\n",
    "    with open('YouTubeLinks.txt','r') as f:\n",
    "        alarms = f.readlines()\n",
    "        alarms = [i.strip() for i in alarms]\n",
    "        z = random.randrange(0,len(alarms))\n",
    "        webbrowser.open(alarms[z])\n",
    "\n",
    "def alarm():\n",
    "\t# Infintite Loop\n",
    "\twhile True:\n",
    "\t\t# Set Alarm\n",
    "\t\tset_alarm_time = f\"{hour.get()}:{minute.get()}:{second.get()}\"\n",
    "\n",
    "\t\t# Wait for one seconds\n",
    "\t\ttime.sleep(1)\n",
    "\n",
    "\t\t# Get current time\n",
    "\t\tcurrent_time = datetime.datetime.now().strftime(\"%H:%M:%S\")\n",
    "\t\tTimeShow = (current_time, set_alarm_time)\n",
    "\t\tTimeRemaining = Label(root , text = TimeShow).pack(side = TOP)\n",
    "\n",
    "\t\t# Check whether set alarm is equal to current time or not\n",
    "\t\tif current_time == set_alarm_time:\n",
    "\t\t\tprint(\"Time to Wake up\")\n",
    "\t\t\t# Playing sound\n",
    "\t\t\tsounds()\n",
    "\t\t\tbreak\n",
    "            \n",
    "\n",
    "# Add Labels, Frame, Button, Optionmenus\n",
    "Label(root,text=\"Alarm Clock\",font=(\"Helvetica 20 bold\"),fg=\"red\").pack(side = TOP)\n",
    "Label(root,text=\"Set Time\",font=(\"Helvetica 15 bold\")).pack(side = TOP)\n",
    "frame = Frame(root)\n",
    "frame.pack()\n",
    "\n",
    "hour = StringVar(root)\n",
    "hours = ('00', '01', '02', '03', '04', '05', '06', '07',\n",
    "\t\t'08', '09', '10', '11', '12', '13', '14', '15',\n",
    "\t\t'16', '17', '18', '19', '20', '21', '22', '23', '24'\n",
    "\t\t)\n",
    "hour.set(hours[0])\n",
    "\n",
    "hrs = OptionMenu(frame, hour, *hours)\n",
    "hrs.pack(side=LEFT)\n",
    "\n",
    "minute = StringVar(root)\n",
    "minutes = ('00', '01', '02', '03', '04', '05', '06', '07',\n",
    "\t\t'08', '09', '10', '11', '12', '13', '14', '15',\n",
    "\t\t'16', '17', '18', '19', '20', '21', '22', '23',\n",
    "\t\t'24', '25', '26', '27', '28', '29', '30', '31',\n",
    "\t\t'32', '33', '34', '35', '36', '37', '38', '39',\n",
    "\t\t'40', '41', '42', '43', '44', '45', '46', '47',\n",
    "\t\t'48', '49', '50', '51', '52', '53', '54', '55',\n",
    "\t\t'56', '57', '58', '59', '60')\n",
    "minute.set(minutes[0])\n",
    "\n",
    "mins = OptionMenu(frame, minute, *minutes)\n",
    "mins.pack(side=LEFT)\n",
    "\n",
    "second = StringVar(root)\n",
    "seconds = ('00', '01', '02', '03', '04', '05', '06', '07',\n",
    "\t\t'08', '09', '10', '11', '12', '13', '14', '15',\n",
    "\t\t'16', '17', '18', '19', '20', '21', '22', '23',\n",
    "\t\t'24', '25', '26', '27', '28', '29', '30', '31',\n",
    "\t\t'32', '33', '34', '35', '36', '37', '38', '39',\n",
    "\t\t'40', '41', '42', '43', '44', '45', '46', '47',\n",
    "\t\t'48', '49', '50', '51', '52', '53', '54', '55',\n",
    "\t\t'56', '57', '58', '59', '60')\n",
    "second.set(seconds[0])\n",
    "\n",
    "secs = OptionMenu(frame, second, *seconds)\n",
    "secs.pack(side=LEFT)\n",
    "\n",
    "Button(root,text=\"Set Alarm\",font=(\"Helvetica 15\"),command=Threading).pack(side=TOP)\n",
    "\n",
    "YoutubeLinkLabel = Label(root,text = \"Please add your Youtube link \").pack(side=TOP) \n",
    "YoutubeLinkEntry = Entry(root,width = 70)\n",
    "YoutubeLinkEntry.pack(side = TOP)\n",
    "OK = Button(root, text =\"OK\", command = SaveYoutubeLink)\n",
    "OK.pack(side = TOP)\n",
    "\n",
    "# Execute Tkinter\n",
    "root.mainloop()"
   ]
  },
  {
   "cell_type": "code",
   "execution_count": null,
   "metadata": {},
   "outputs": [],
   "source": []
  }
 ],
 "metadata": {
  "kernelspec": {
   "display_name": "Python 3",
   "language": "python",
   "name": "python3"
  },
  "language_info": {
   "codemirror_mode": {
    "name": "ipython",
    "version": 3
   },
   "file_extension": ".py",
   "mimetype": "text/x-python",
   "name": "python",
   "nbconvert_exporter": "python",
   "pygments_lexer": "ipython3",
   "version": "3.7.6"
  }
 },
 "nbformat": 4,
 "nbformat_minor": 4
}
